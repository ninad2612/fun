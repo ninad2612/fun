{
 "cells": [
  {
   "cell_type": "code",
   "execution_count": 1,
   "id": "4d9aeee8",
   "metadata": {},
   "outputs": [],
   "source": [
    "\n",
    "import pandas as pd\n",
    "import numpy as np\n",
    "import matplotlib.pyplot as plt\n",
    "import seaborn as sns\n",
    "from sklearn.model_selection import train_test_split\n",
    "from sklearn.preprocessing import StandardScaler, LabelEncoder\n",
    "from sklearn.decomposition import PCA\n",
    "from sklearn.linear_model import LogisticRegression\n",
    "from sklearn.metrics import accuracy_score, classification_report, confusion_matrix\n"
   ]
  },
  {
   "cell_type": "markdown",
   "id": "3dae8a5a",
   "metadata": {},
   "source": [
    "### Load the Dataset and Perform Data Preprocessing"
   ]
  },
  {
   "cell_type": "code",
   "execution_count": 2,
   "id": "850fb1ae",
   "metadata": {},
   "outputs": [],
   "source": [
    "\n",
    "# Load the dataset\n",
    "url = \"adultcensusincome.csv\" \n",
    "columns = ['age', 'workclass', 'fnlwgt', 'education', 'education-num', 'marital-status',\n",
    "           'occupation', 'relationship', 'race', 'sex', 'capital-gain', 'capital-loss',\n",
    "           'hours-per-week', 'native-country', 'income'] \n",
    "data = pd.read_csv(url, names=columns, na_values=' ?')\n",
    "\n",
    "# Data Cleaning: Remove rows with missing values\n",
    "data.dropna(inplace=True)\n",
    "\n",
    "# Encode categorical variables\n",
    "label_encoders = {}\n",
    "for column in data.select_dtypes(include=['object']).columns:\n",
    "    label_encoders[column] = LabelEncoder()\n",
    "    data[column] = label_encoders[column].fit_transform(data[column])\n",
    "\n",
    "# Split data into features and labels\n",
    "X = data.drop('income', axis=1)\n",
    "y = data['income']\n",
    "\n",
    "# Scale the features to standardize the data\n",
    "scaler = StandardScaler()\n",
    "X_scaled = scaler.fit_transform(X)\n",
    "\n",
    "# Split dataset into training and testing sets\n",
    "X_train, X_test, y_train, y_test = train_test_split(X_scaled, y, test_size=0.3, random_state=42)\n"
   ]
  },
  {
   "cell_type": "markdown",
   "id": "3efb7223",
   "metadata": {},
   "source": [
    "### Logistic Regression Model without PCA (Baseline)"
   ]
  },
  {
   "cell_type": "code",
   "execution_count": 3,
   "id": "55b8fcd1",
   "metadata": {},
   "outputs": [
    {
     "name": "stdout",
     "output_type": "stream",
     "text": [
      "Logistic Regression without PCA\n",
      "Accuracy: 0.7881\n",
      "              precision    recall  f1-score   support\n",
      "\n",
      "           0       0.81      0.94      0.87      7414\n",
      "           1       0.62      0.32      0.42      2355\n",
      "\n",
      "    accuracy                           0.79      9769\n",
      "   macro avg       0.72      0.63      0.64      9769\n",
      "weighted avg       0.77      0.79      0.76      9769\n",
      "\n"
     ]
    }
   ],
   "source": [
    "\n",
    "# Baseline Model (without PCA)\n",
    "log_reg = LogisticRegression()\n",
    "log_reg.fit(X_train, y_train)\n",
    "y_pred = log_reg.predict(X_test)\n",
    "accuracy_without_pca = accuracy_score(y_test, y_pred)\n",
    "\n",
    "print(\"Logistic Regression without PCA\")\n",
    "print(f\"Accuracy: {accuracy_without_pca:.4f}\")\n",
    "print(classification_report(y_test, y_pred))\n"
   ]
  },
  {
   "cell_type": "markdown",
   "id": "d5720ac3",
   "metadata": {},
   "source": [
    "### Dimensionality Reduction using PCA"
   ]
  },
  {
   "cell_type": "code",
   "execution_count": 4,
   "id": "192c6ee8",
   "metadata": {},
   "outputs": [
    {
     "name": "stdout",
     "output_type": "stream",
     "text": [
      "\n",
      "Logistic Regression with PCA (whole dataset)\n",
      "Accuracy: 0.7880\n",
      "              precision    recall  f1-score   support\n",
      "\n",
      "           0       0.81      0.94      0.87      7414\n",
      "           1       0.62      0.32      0.42      2355\n",
      "\n",
      "    accuracy                           0.79      9769\n",
      "   macro avg       0.72      0.63      0.64      9769\n",
      "weighted avg       0.77      0.79      0.76      9769\n",
      "\n"
     ]
    }
   ],
   "source": [
    "\n",
    "# Dimensionality Reduction using PCA\n",
    "# Applying PCA to transform data while retaining all components\n",
    "pca_all = PCA()\n",
    "X_train_pca_all = pca_all.fit_transform(X_train)\n",
    "X_test_pca_all = pca_all.transform(X_test)\n",
    "\n",
    "# Logistic Regression with all PCA components\n",
    "log_reg_pca_all = LogisticRegression()\n",
    "log_reg_pca_all.fit(X_train_pca_all, y_train)\n",
    "y_pred_pca_all = log_reg_pca_all.predict(X_test_pca_all)\n",
    "accuracy_pca_all = accuracy_score(y_test, y_pred_pca_all)\n",
    "\n",
    "print(\"\\nLogistic Regression with PCA (whole dataset)\")\n",
    "print(f\"Accuracy: {accuracy_pca_all:.4f}\")\n",
    "print(classification_report(y_test, y_pred_pca_all))\n"
   ]
  },
  {
   "cell_type": "code",
   "execution_count": 5,
   "id": "72fb6f06",
   "metadata": {},
   "outputs": [
    {
     "name": "stdout",
     "output_type": "stream",
     "text": [
      "\n",
      "Logistic Regression with PCA (variance explained ≥ 0.5)\n",
      "Accuracy: 0.7803\n",
      "              precision    recall  f1-score   support\n",
      "\n",
      "           0       0.81      0.94      0.87      7414\n",
      "           1       0.59      0.29      0.39      2355\n",
      "\n",
      "    accuracy                           0.78      9769\n",
      "   macro avg       0.70      0.61      0.63      9769\n",
      "weighted avg       0.75      0.78      0.75      9769\n",
      "\n"
     ]
    }
   ],
   "source": [
    "\n",
    "# PCA retaining components that explain 50% of variance\n",
    "pca_50 = PCA(0.5)\n",
    "X_train_pca_50 = pca_50.fit_transform(X_train)\n",
    "X_test_pca_50 = pca_50.transform(X_test)\n",
    "\n",
    "# Logistic Regression on 50% variance PCA components\n",
    "log_reg_pca_50 = LogisticRegression()\n",
    "log_reg_pca_50.fit(X_train_pca_50, y_train)\n",
    "y_pred_pca_50 = log_reg_pca_50.predict(X_test_pca_50)\n",
    "accuracy_pca_50 = accuracy_score(y_test, y_pred_pca_50)\n",
    "\n",
    "print(\"\\nLogistic Regression with PCA (variance explained ≥ 0.5)\")\n",
    "print(f\"Accuracy: {accuracy_pca_50:.4f}\")\n",
    "print(classification_report(y_test, y_pred_pca_50))\n"
   ]
  },
  {
   "cell_type": "code",
   "execution_count": 6,
   "id": "cd013196",
   "metadata": {},
   "outputs": [
    {
     "name": "stdout",
     "output_type": "stream",
     "text": [
      "\n",
      "Logistic Regression with PCA (variance explained ≥ 0.75)\n",
      "Accuracy: 0.7884\n",
      "              precision    recall  f1-score   support\n",
      "\n",
      "           0       0.81      0.94      0.87      7414\n",
      "           1       0.63      0.30      0.41      2355\n",
      "\n",
      "    accuracy                           0.79      9769\n",
      "   macro avg       0.72      0.62      0.64      9769\n",
      "weighted avg       0.77      0.79      0.76      9769\n",
      "\n"
     ]
    }
   ],
   "source": [
    "\n",
    "# PCA retaining components that explain 75% of variance\n",
    "pca_75 = PCA(0.75)\n",
    "X_train_pca_75 = pca_75.fit_transform(X_train)\n",
    "X_test_pca_75 = pca_75.transform(X_test)\n",
    "\n",
    "# Logistic Regression on 75% variance PCA components\n",
    "log_reg_pca_75 = LogisticRegression()\n",
    "log_reg_pca_75.fit(X_train_pca_75, y_train)\n",
    "y_pred_pca_75 = log_reg_pca_75.predict(X_test_pca_75)\n",
    "accuracy_pca_75 = accuracy_score(y_test, y_pred_pca_75)\n",
    "\n",
    "print(\"\\nLogistic Regression with PCA (variance explained ≥ 0.75)\")\n",
    "print(f\"Accuracy: {accuracy_pca_75:.4f}\")\n",
    "print(classification_report(y_test, y_pred_pca_75))\n"
   ]
  },
  {
   "cell_type": "markdown",
   "id": "6ef0744c",
   "metadata": {},
   "source": [
    "### Visualize Explained Variance by PCA Components"
   ]
  },
  {
   "cell_type": "code",
   "execution_count": 7,
   "id": "687536e6",
   "metadata": {},
   "outputs": [
    {
     "data": {
      "image/png": "[encoded data removed]",
      "text/plain": [
       "<Figure size 640x480 with 1 Axes>"
      ]
     },
     "metadata": {},
     "output_type": "display_data"
    }
   ],
   "source": [
    "\n",
    "# Visualize Explained Variance\n",
    "explained_variance = np.cumsum(pca_all.explained_variance_ratio_)\n",
    "plt.plot(explained_variance, marker='o', linestyle='--')\n",
    "plt.axhline(y=0.5, color='r', linestyle='--', label='50% Variance Threshold')\n",
    "plt.axhline(y=0.75, color='g', linestyle='--', label='75% Variance Threshold')\n",
    "plt.title('Explained Variance by Number of PCA Components')\n",
    "plt.xlabel('Number of Components')\n",
    "plt.ylabel('Cumulative Explained Variance')\n",
    "plt.legend(loc='best')\n",
    "plt.show()\n"
   ]
  },
  {
   "cell_type": "code",
   "execution_count": null,
   "id": "307d1744",
   "metadata": {},
   "outputs": [],
   "source": []
  }
 ],
 "metadata": {
  "kernelspec": {
   "display_name": "Python 3",
   "language": "python",
   "name": "python3"
  },
  "language_info": {
   "codemirror_mode": {
    "name": "ipython",
    "version": 3
   },
   "file_extension": ".py",
   "mimetype": "text/x-python",
   "name": "python",
   "nbconvert_exporter": "python",
   "pygments_lexer": "ipython3",
   "version": "3.11.4"
  }
 },
 "nbformat": 4,
 "nbformat_minor": 5
}
